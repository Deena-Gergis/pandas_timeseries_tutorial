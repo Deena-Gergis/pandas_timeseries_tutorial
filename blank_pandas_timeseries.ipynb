{
 "cells": [
  {
   "cell_type": "markdown",
   "id": "e0490768-40a1-424c-811f-6a08b33f88fc",
   "metadata": {},
   "source": [
    "# Preprocessing time-series data using Pandas"
   ]
  },
  {
   "cell_type": "markdown",
   "id": "968dd0bf-3b77-4473-bf3e-a2e44c1c6d68",
   "metadata": {},
   "source": [
    "This notebook is intended to introduce you to the basic Pandas DateTime    \n",
    "The following five points will be covered:\n",
    "\n",
    "## A. Content:\n",
    "\n",
    "1. [Parsing DateTime](#task1)\n",
    "2. [Aggregating columns](#task2)\n",
    "3. [Extracting DateTime properties](#task3)\n",
    "4. [Fitering and Selecting specific durations](#task4)\n",
    "5. [Changing the granularity of the Timeseries](#task5)"
   ]
  },
  {
   "cell_type": "markdown",
   "id": "e730ca63-f98c-49d8-9f83-b1348bbf5d2b",
   "metadata": {},
   "source": [
    "## B. Prerequisites: \n",
    "1. Basic knowledge of Python and Pandas\n",
    "2. Kaggle account"
   ]
  },
  {
   "cell_type": "markdown",
   "id": "94e323dc-7da2-4fa4-aa6c-e2c12f4fa83d",
   "metadata": {
    "tags": []
   },
   "source": [
    "## C. Code along:\n",
    "**Option 1. On Kaggle (recommended):**   \n",
    "1. Sign in to www.kaggle.com \n",
    "2. Copy this notebook: https://www.kaggle.com/deenagergis/20201019-pandas-timeseries-tutorial-blank\n",
    "3. Have fun coding! \n",
    "\n",
    "**Option 2. On your local machine:**\n",
    "1. Clone the following Repository: https://github.com/Deena-Gergis/pandas_timeseries_tutorial\n",
    "2. *(Optional) Create a new virtual environment*  \n",
    "3. Install the requirements.txt using `pip install -r <your_local_path>/requirements.txt ` or `conda install --yes --file <your_local_path>/requirements.txt`\n",
    "4. Connect to Kaggle from your local machine: https://github.com/Kaggle/kaggle-api#api-credentials\n",
    "5. Open the `blank_pandas_timeseries.ipynb` notebook and code along\n",
    "6. Have fun coding! \n"
   ]
  },
  {
   "cell_type": "markdown",
   "id": "25fe448b-ac70-49ca-a163-9ac6c7c5bc51",
   "metadata": {},
   "source": [
    "## D. References: "
   ]
  },
  {
   "cell_type": "markdown",
   "id": "3935b7b9-6e07-4d50-b1c6-18ddbf09f1f7",
   "metadata": {},
   "source": [
    "* *A 3 minute guide:* https://www.linkedin.com/pulse/your-3-minute-guide-pandas-timeseries-deena-gergis-msc-/\n",
    "* *Official documentation:* https://pandas.pydata.org/pandas-docs/stable/user_guide/timeseries.html"
   ]
  },
  {
   "cell_type": "markdown",
   "id": "1016c765-f1f5-4fd7-ad25-a936c855acd8",
   "metadata": {},
   "source": [
    "__________"
   ]
  },
  {
   "cell_type": "markdown",
   "id": "926add1b-4707-4601-8a8c-5daeb782ee82",
   "metadata": {},
   "source": [
    "# I. Prepare"
   ]
  },
  {
   "cell_type": "code",
   "execution_count": null,
   "id": "06282246-229d-40a3-8388-75cebb2e673e",
   "metadata": {},
   "outputs": [],
   "source": [
    "## Configs and Constants\n",
    "DATASET_NAME = 'shivamb/netflix-shows'\n",
    "FILE_NAME = 'netflix_titles.csv'\n",
    "DATA_DIR  = './data'"
   ]
  },
  {
   "cell_type": "code",
   "execution_count": null,
   "id": "823d4397-3ce9-4596-a1c3-5269b386ee23",
   "metadata": {},
   "outputs": [],
   "source": [
    "import os\n",
    "\n",
    "import pandas as pd \n",
    "import numpy as np\n",
    "import matplotlib.pyplot as plt\n",
    "\n",
    "from kaggle import KaggleApi"
   ]
  },
  {
   "cell_type": "code",
   "execution_count": null,
   "id": "1536d402-9a34-4f14-8090-02729954bd9b",
   "metadata": {},
   "outputs": [],
   "source": [
    "# Set default properties for plotting \n",
    "plt.rcParams['figure.figsize'] = [11, 4]\n",
    "plt.rcParams['figure.dpi'] = 100 "
   ]
  },
  {
   "cell_type": "markdown",
   "id": "d5b88a86-a382-488d-812f-1c280170d1c4",
   "metadata": {},
   "source": [
    "### Download and read data from Kaggle "
   ]
  },
  {
   "cell_type": "code",
   "execution_count": null,
   "id": "5eb6630a-c224-4463-9349-b4f02199f2f6",
   "metadata": {},
   "outputs": [],
   "source": [
    "# Download data\n",
    "kaggle = KaggleApi()\n",
    "kaggle.authenticate()\n",
    "kaggle.dataset_download_files(DATASET_NAME, path=DATA_DIR, unzip=True)"
   ]
  },
  {
   "cell_type": "code",
   "execution_count": null,
   "id": "c272c98b-89cc-4b90-801f-b1b8632a67db",
   "metadata": {},
   "outputs": [],
   "source": [
    "# Read and show data\n",
    "raw_path = os.path.join(DATA_DIR, FILE_NAME)\n",
    "raw_df = pd.read_csv(raw_path)"
   ]
  },
  {
   "cell_type": "code",
   "execution_count": null,
   "id": "e7b0ff33-5dca-43ff-a5a2-e864e2f7ae9d",
   "metadata": {},
   "outputs": [],
   "source": [
    "raw_df.sample(5)"
   ]
  },
  {
   "cell_type": "code",
   "execution_count": null,
   "id": "75be55cb-5088-4c1f-a36c-7795b9105622",
   "metadata": {},
   "outputs": [],
   "source": [
    "raw_df.dtypes"
   ]
  },
  {
   "cell_type": "markdown",
   "id": "c66c2f2a-dec8-4dab-970a-ff2ea6fe4e23",
   "metadata": {},
   "source": [
    "____________"
   ]
  },
  {
   "cell_type": "markdown",
   "id": "3596b778-3328-487f-80e8-8318b27ab3c8",
   "metadata": {},
   "source": [
    "# II. Preprocess"
   ]
  },
  {
   "cell_type": "markdown",
   "id": "6364fcee-7256-44d4-9ded-ba80c717089f",
   "metadata": {},
   "source": [
    "\n",
    "## Task 1: Count the number of shows added per day     \n",
    "\n",
    "In the following section, we will parse the raw date format into pandas datetime and summarize the daily shows added to the total number \n",
    "\n",
    "### Parse timestamp into datetime column <a id='task1'></a>\n",
    "\n",
    "Change the raw format to a pandas datetime format.    \n",
    "Once we have changed the format as such, we will be able to apply more functionalities illustrated below \n"
   ]
  },
  {
   "cell_type": "markdown",
   "id": "9b1739fc-28be-43e1-9ae4-06feaaef29e7",
   "metadata": {},
   "source": [
    "### Count shows added  per date <a id='task2'></a>\n",
    "All the shows have been listed in the original dataframe.     \n",
    "Now let's count the total number of shows added per day"
   ]
  },
  {
   "cell_type": "markdown",
   "id": "99c41b81-9b80-4d1c-a1e8-27342a38352e",
   "metadata": {
    "tags": []
   },
   "source": [
    "______\n",
    "\n",
    "## Task 2: Extract the day name and sum-up the shows added \n",
    "<a id='task3'></a>\n",
    "\n",
    "In the last step, we have used the `date_added` column to count the number of shows.    \n",
    "Since we've used the `groupby` functionality to count the number of shows,     \n",
    "the column is set as our index. \n",
    "\n",
    "We could now use our new index directly to extract the Attributes of the timestamp.    \n",
    "One example of those Attributes is the `day_name`.    \n",
    "Check out the [full list of the attributes here](https://pandas.pydata.org/pandas-docs/stable/reference/api/pandas.DatetimeIndex.html)."
   ]
  },
  {
   "cell_type": "markdown",
   "id": "c7ed5892-1658-4642-bb7b-0c29dac40704",
   "metadata": {},
   "source": [
    "______\n",
    "\n",
    "## Task 3: Select data from 2016 onwards \n",
    "<a id='task4'></a>\n",
    "You can also use the regular masking way to select and filter entries.      \n",
    "The syntax is even simpler than one could expect. You don't even need to parse    \n",
    "your filtering criteria to `datetime`. A simple string with `%YYYY-%MM-%DD` format     \n",
    "will do the job  \n"
   ]
  },
  {
   "cell_type": "markdown",
   "id": "18039a64-5b01-4e48-b2f1-bd77e046f0f8",
   "metadata": {},
   "source": [
    "______\n",
    "\n",
    "## Task 4: Sum up weekly data \n",
    "<a id='task5'></a>\n",
    "\n",
    "It is possible to change the granularity of your timeseries directly using Pandas datetie module.        \n",
    "       \n",
    "       \n",
    "To do that, you need to specify two things: \n",
    "- Your new granularity passed as an argument to the `resample` function. [Read more details](https://pandas.pydata.org/pandas-docs/stable/user_guide/timeseries.html#dateoffset-objects)\n",
    "- The function that will be used to generate the new granularity"
   ]
  },
  {
   "cell_type": "markdown",
   "id": "924a4326-d090-43c6-84e7-50fcba63097d",
   "metadata": {},
   "source": [
    "_________"
   ]
  }
 ],
 "metadata": {
  "kernelspec": {
   "display_name": "Python 3 (ipykernel)",
   "language": "python",
   "name": "python3"
  },
  "language_info": {
   "codemirror_mode": {
    "name": "ipython",
    "version": 3
   },
   "file_extension": ".py",
   "mimetype": "text/x-python",
   "name": "python",
   "nbconvert_exporter": "python",
   "pygments_lexer": "ipython3",
   "version": "3.9.6"
  }
 },
 "nbformat": 4,
 "nbformat_minor": 5
}
